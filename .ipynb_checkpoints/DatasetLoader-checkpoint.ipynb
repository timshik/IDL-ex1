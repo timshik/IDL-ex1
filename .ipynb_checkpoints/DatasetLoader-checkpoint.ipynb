{
 "cells": [
  {
   "cell_type": "code",
   "execution_count": 1,
   "metadata": {},
   "outputs": [],
   "source": [
    "# create dataset\n",
    "from torch.utils.data import Dataset\n",
    "import pickle\n",
    "import numpy as np\n",
    "from sklearn.model_selection import train_test_split\n",
    "\n"
   ]
  },
  {
   "cell_type": "code",
   "execution_count": 2,
   "metadata": {},
   "outputs": [],
   "source": [
    "path_pos = 'pos_A0201.txt'\n",
    "path_neg = 'neg_A0201.txt'\n",
    "num_of_aminos = 20\n",
    "peptide_length = 9\n",
    "amino_vocab = {\n",
    "    'A': 0,\n",
    "    'R': 1,\n",
    "    'N': 2,\n",
    "    'D': 3,\n",
    "    'C': 4,\n",
    "    'Q': 5,\n",
    "    'E': 6,\n",
    "    'G': 7,\n",
    "    'H': 8,\n",
    "    'I': 9,\n",
    "    'L': 10,\n",
    "    'K': 11,\n",
    "    'M': 12,\n",
    "    'F': 13,\n",
    "    'P': 14,\n",
    "    'S': 15,\n",
    "    'T': 16,\n",
    "    'W': 17,\n",
    "    'Y': 18,\n",
    "    'V': 19\n",
    "}"
   ]
  },
  {
   "cell_type": "code",
   "execution_count": 3,
   "metadata": {},
   "outputs": [],
   "source": [
    "def peptide_to_one_hot(peptide):\n",
    "    peptide_one_hot = []\n",
    "    for amino in peptide:\n",
    "        peptide_one_hot += (amino_to_one_hot(amino))\n",
    "    return peptide_one_hot\n",
    "\n",
    "\n",
    "def amino_to_one_hot(amino):\n",
    "    amino_one_hot = [0]*num_of_aminos\n",
    "    amino_one_hot[amino_vocab[amino]] = 1\n",
    "    return amino_one_hot\n",
    "\n",
    "\n",
    "def encode_data(data):\n",
    "    encoded_data = []\n",
    "    for peptide in data:\n",
    "        encoded_data.append(peptide_to_one_hot(peptide))\n",
    "    return encoded_data\n",
    "\n",
    "\n",
    "def read_file(file_name):\n",
    "    with open(file_name) as file:\n",
    "        lines = file.readlines()\n",
    "        lines = [line.rstrip() for line in lines]\n",
    "    return lines\n"
   ]
  },
  {
   "cell_type": "code",
   "execution_count": 4,
   "metadata": {},
   "outputs": [],
   "source": [
    "class MyDataset:\n",
    "    \"\"\"ex1 dataset.\"\"\"\n",
    "\n",
    "    def __init__(self, path_pos, path_neg):\n",
    "        self.num_of_positive = 0\n",
    "        self.num_of_negative = 0\n",
    "        self.data,self.labels = get_dataset_as_array(path_pos, path_neg)\n",
    "        self.X_train = []\n",
    "        self.Y_train = []\n",
    "        self.X_test = []\n",
    "        self.Y_test = []\n",
    "    \n",
    "    def __str__(self):\n",
    "        return f\" number of samples in the data: {len(self.data)} \\\n",
    "            number of positive samples in the data: {self.num_of_positive} ({self.num_of_positive/len(self.data)})%\\\n",
    "                number of negative samples in the data: {self.num_of_negative} ({self.num_of_negative/len(self.data)})%\"\n",
    "    \n",
    "    def __len__(self):\n",
    "        return len(self.data)\n",
    "\n",
    "    def __getitem__(self, idx):\n",
    "        return self.data[idx]\n",
    "    \n",
    "    def split_train_test(self):\n",
    "        self.X_train, self.X_test, self.Y_train, self.Y_test = \\\n",
    "        train_test_split(self.data, self.Y, test_size=0.1, random_state=1)\n",
    "    \n",
    "    def get_train_data(self):\n",
    "        return np.array(zip(self.X_train, Y_train))\n",
    "    \n",
    "    def get_test_data(self):\n",
    "        return np.array(zip(self.X_test, Y_test))\n",
    "    \n",
    "    def shuffle(self):\n",
    "        p = np.random.permutation(len(self.data))\n",
    "        self.data = self.data[p]\n",
    "        \n",
    "    def get_dataset_as_array(self, path_pos, path_neg):\n",
    "        pos = read_file(path_pos)\n",
    "        neg = read_file(path_neg)\n",
    "        self.num_of_positive = len(pos)\n",
    "        self.num_of_negative = len(neg)\n",
    "        data_encoded = encode_data(pos+neg)\n",
    "        labels = [1]*(len(pos)) + [0]*(len(neg))\n",
    "        return (data_encoded, labels)\n",
    "\n",
    "    def get_weights(self,x=1,y=1): #x will represent the factor of the weight of the first class and y for the second\n",
    "        weight = self.num_of_neg/len(self.data) #the weights will be calculates as 1- relative number of class samples in the data\n",
    "        weightsample = [1-weight,weight]\n",
    "        weightsample[0]*=x\n",
    "        weightsample[1]*=y\n",
    "        weights = []\n",
    "\n",
    "        for label in range labels:\n",
    "            weights.append(weightsample[label])\n",
    "        return weights\n"
   ]
  },
  {
   "cell_type": "code",
   "execution_count": 5,
   "metadata": {},
   "outputs": [],
   "source": [
    "def label_names():\n",
    "    return {0: 'negative', 1: 'positive'}\n",
    "\n"
   ]
  },
  {
   "cell_type": "code",
   "execution_count": 6,
   "metadata": {},
   "outputs": [],
   "source": [
    "# useful for using data-loaders\n",
    "# def get_dataset_as_torch_dataset(path='./data/dataset.pickle'):\n",
    "#     dataset_as_array = get_dataset_as_array(path)\n",
    "#     dataset = MyDataset(dataset_as_array)\n",
    "#     return dataset\n",
    "\n",
    "\n",
    "\n"
   ]
  },
  {
   "cell_type": "code",
   "execution_count": 21,
   "metadata": {},
   "outputs": [
    {
     "data": {
      "text/plain": [
       "' hi \\n moshe'"
      ]
     },
     "execution_count": 21,
     "metadata": {},
     "output_type": "execute_result"
    }
   ],
   "source": []
  }
 ],
 "metadata": {
  "kernelspec": {
   "display_name": "Python 3",
   "language": "python",
   "name": "python3"
  },
  "language_info": {
   "codemirror_mode": {
    "name": "ipython",
    "version": 3
   },
   "file_extension": ".py",
   "mimetype": "text/x-python",
   "name": "python",
   "nbconvert_exporter": "python",
   "pygments_lexer": "ipython3",
   "version": "3.7.4"
  }
 },
 "nbformat": 4,
 "nbformat_minor": 2
}
